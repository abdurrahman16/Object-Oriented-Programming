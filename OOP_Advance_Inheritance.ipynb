{
  "nbformat": 4,
  "nbformat_minor": 0,
  "metadata": {
    "colab": {
      "provenance": [],
      "authorship_tag": "ABX9TyMTgaOb5ViOyUsCrh6lGQHb",
      "include_colab_link": true
    },
    "kernelspec": {
      "name": "python3",
      "display_name": "Python 3"
    },
    "language_info": {
      "name": "python"
    }
  },
  "cells": [
    {
      "cell_type": "markdown",
      "metadata": {
        "id": "view-in-github",
        "colab_type": "text"
      },
      "source": [
        "<a href=\"https://colab.research.google.com/github/abdurrahman16/Object-Oriented-Programming/blob/main/OOP_Advance_Inheritance.ipynb\" target=\"_parent\"><img src=\"https://colab.research.google.com/assets/colab-badge.svg\" alt=\"Open In Colab\"/></a>"
      ]
    },
    {
      "cell_type": "code",
      "execution_count": 25,
      "metadata": {
        "colab": {
          "base_uri": "https://localhost:8080/",
          "height": 36
        },
        "id": "uOCcI-L8cCKz",
        "outputId": "ebd96e35-03d9-4fe4-ba05-9c84a354654f"
      },
      "outputs": [
        {
          "output_type": "execute_result",
          "data": {
            "text/plain": [
              "'Name: Suzuki Model: 2012 Color: Yellow Price: 250000 BDT'"
            ],
            "application/vnd.google.colaboratory.intrinsic+json": {
              "type": "string"
            }
          },
          "metadata": {},
          "execution_count": 25
        }
      ],
      "source": [
        "#DRI principle practising\n",
        "class Auto:\n",
        "  def __init__(self, name, model, color):\n",
        "    self.name=name\n",
        "    self.model=model\n",
        "    self.color=color\n",
        "\n",
        "  def Get_info(self):\n",
        "    return f\"Name: {self.name}  Model: {self.model}  Color: {self.color}\"\n",
        "\n",
        "\n",
        "class Truck(Auto):\n",
        "  def __init__(self, name, model, color, price):\n",
        "    super().__init__(name,model,color)\n",
        "    self.price=price\n",
        "\n",
        "  def Get_info(self): #method overrride\n",
        "    return f\"Name: {self.name} Model: {self.model} Color: {self.color} Price: {self.price}\"\n",
        "\n",
        "\n",
        "class Car(Auto):\n",
        "  def __init__(self, name, model, color, price, owner):\n",
        "    super().___init__(name,model,color)\n",
        "    self.price=price\n",
        "    self.owner=owner\n",
        "\n",
        "  def Get_info(self):\n",
        "    return f\"Name: {self.name} \\nModel: {self.model} \\nColor: {self.color} \\nPrice: {self.price} \\n Owner Name: {self.owner}\"\n",
        "\n",
        "automobile= Auto(\"Toyota\", \"2005\", \"Red\")\n",
        "automobile.Get_info()\n",
        "\n",
        "\n",
        "newtruck= Truck('Suzuki',2012, 'Yellow', '250000 BDT')\n",
        "newtruck.Get_info()"
      ]
    },
    {
      "cell_type": "code",
      "source": [],
      "metadata": {
        "id": "0EeaWq7AszJC"
      },
      "execution_count": null,
      "outputs": []
    }
  ]
}