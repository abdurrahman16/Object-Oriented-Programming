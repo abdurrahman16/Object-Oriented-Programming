{
  "nbformat": 4,
  "nbformat_minor": 0,
  "metadata": {
    "colab": {
      "provenance": [],
      "authorship_tag": "ABX9TyMdV5ngS8X4uW3YJ40fioHW",
      "include_colab_link": true
    },
    "kernelspec": {
      "name": "python3",
      "display_name": "Python 3"
    },
    "language_info": {
      "name": "python"
    }
  },
  "cells": [
    {
      "cell_type": "markdown",
      "metadata": {
        "id": "view-in-github",
        "colab_type": "text"
      },
      "source": [
        "<a href=\"https://colab.research.google.com/github/abdurrahman16/Object-Oriented-Programming/blob/main/Vehicle_Inheritance_Hierarchy.ipynb\" target=\"_parent\"><img src=\"https://colab.research.google.com/assets/colab-badge.svg\" alt=\"Open In Colab\"/></a>"
      ]
    },
    {
      "cell_type": "code",
      "execution_count": 2,
      "metadata": {
        "colab": {
          "base_uri": "https://localhost:8080/"
        },
        "id": "IxW9cBMfwxco",
        "outputId": "74864e93-2d30-4ebf-ed63-08623a8d89c3"
      },
      "outputs": [
        {
          "output_type": "stream",
          "name": "stdout",
          "text": [
            "2023 Toyota Camry - 4 doors\n",
            "The 2023 Toyota Camry is now running.\n",
            "Beep beep!\n",
            "\n",
            "2022 Harley Davidson\n",
            "The 2022 Harley Davidson is now running.\n",
            "Doing a wheelie! 🏍️\n"
          ]
        }
      ],
      "source": [
        "class Vehicle:\n",
        "    def __init__(self, make, model, year):\n",
        "        self.make = make\n",
        "        self.model = model\n",
        "        self.year = year\n",
        "        self.is_running = False\n",
        "\n",
        "    def start(self):\n",
        "        self.is_running = True\n",
        "        print(f\"The {self.year} {self.make} {self.model} is now running.\")\n",
        "\n",
        "    def stop(self):\n",
        "        self.is_running = False\n",
        "        print(f\"The {self.year} {self.make} {self.model} has stopped.\")\n",
        "\n",
        "    def get_info(self):\n",
        "        return f\"{self.year} {self.make} {self.model}\"\n",
        "\n",
        "# Child class 1: Car inherits from Vehicle\n",
        "class Car(Vehicle):\n",
        "    def __init__(self, make, model, year, doors):\n",
        "        super().__init__(make, model, year)  # Call parent constructor\n",
        "        self.doors = doors\n",
        "\n",
        "    def honk(self):\n",
        "        print(\"Beep beep!\")\n",
        "\n",
        "    def get_info(self):  # Override parent method\n",
        "        return f\"{super().get_info()} - {self.doors} doors\"\n",
        "\n",
        "# Child class 2: Motorcycle inherits from Vehicle\n",
        "class Motorcycle(Vehicle):\n",
        "    def __init__(self, make, model, year, has_sidecar=False):\n",
        "        super().__init__(make, model, year)\n",
        "        self.has_sidecar = has_sidecar\n",
        "\n",
        "    def wheelie(self):\n",
        "        if self.is_running:\n",
        "            print(\"Doing a wheelie! 🏍️\")\n",
        "        else:\n",
        "            print(\"Start the motorcycle first!\")\n",
        "\n",
        "# Using inheritance\n",
        "car = Car(\"Toyota\", \"Camry\", 2023, 4)\n",
        "motorcycle = Motorcycle(\"Harley\", \"Davidson\", 2022, False)\n",
        "\n",
        "print(car.get_info())  # Uses overridden method\n",
        "car.start()           # Inherited method\n",
        "car.honk()            # Car's own method\n",
        "\n",
        "print(\"\\n\" + motorcycle.get_info())  # Inherited method\n",
        "motorcycle.start()    # Inherited method\n",
        "motorcycle.wheelie()  # Motorcycle's own method"
      ]
    }
  ]
}