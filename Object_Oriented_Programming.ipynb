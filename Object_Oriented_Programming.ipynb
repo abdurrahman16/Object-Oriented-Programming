{
  "nbformat": 4,
  "nbformat_minor": 0,
  "metadata": {
    "colab": {
      "provenance": [],
      "authorship_tag": "ABX9TyOIcF58HKXUnqQn4lHeX6ru",
      "include_colab_link": true
    },
    "kernelspec": {
      "name": "python3",
      "display_name": "Python 3"
    },
    "language_info": {
      "name": "python"
    }
  },
  "cells": [
    {
      "cell_type": "markdown",
      "metadata": {
        "id": "view-in-github",
        "colab_type": "text"
      },
      "source": [
        "<a href=\"https://colab.research.google.com/github/abdurrahman16/Object-Oriented-Programming/blob/main/Object_Oriented_Programming.ipynb\" target=\"_parent\"><img src=\"https://colab.research.google.com/assets/colab-badge.svg\" alt=\"Open In Colab\"/></a>"
      ]
    },
    {
      "cell_type": "code",
      "execution_count": 13,
      "metadata": {
        "colab": {
          "base_uri": "https://localhost:8080/"
        },
        "id": "uOCcI-L8cCKz",
        "outputId": "1b0960f7-498e-4bc1-e9ce-d86ab67837d8"
      },
      "outputs": [
        {
          "output_type": "stream",
          "name": "stdout",
          "text": [
            "(You Deposited 500 & Your Current Balance is: 1650)\n"
          ]
        }
      ],
      "source": [
        "#creating a bank account program\n",
        "class BankAccount:\n",
        "  def __init__(self, account_holder, initial_blance):\n",
        "    self.account_holder= account_holder\n",
        "    self._balance = initial_blance #protected value encap\n",
        "    self._transactions = 0 #protected value encap\n",
        "\n",
        "  def transaction_count(self):\n",
        "    return self._transactions\n",
        "\n",
        "  def get_balance(self):\n",
        "    return self._balance\n",
        "\n",
        "  def deposit(self, amount):\n",
        "    if amount>0:\n",
        "      self._balance +=amount\n",
        "      self._transactions +=1\n",
        "      print(f\"(You Deposited {amount} & Your Current Balance is: {self._balance})\")\n",
        "    else:\n",
        "      print('Enter a Positive Amount')\n",
        "\n",
        "  def Withdraw(self, wamount):\n",
        "    if wamount>0 and wamount<=self._balance:\n",
        "      self.wamount= wamount\n",
        "      self._balance = self._balance-wamount\n",
        "      self._transactions +=1\n",
        "    else:\n",
        "      print('Insufficient Amount')\n",
        "\n",
        "  def get_info(self):\n",
        "    return (f\"(Ac Name: {self.account_holder}, Balance: {self._balance}, Transactions:{self._transactions})\")\n",
        "\n",
        "\n",
        "#now access all\n",
        "ac = BankAccount('Abdur', 1250)\n",
        "ac.get_info()\n",
        "\n",
        "ac.Withdraw(50)\n",
        "ac.get_info()\n",
        "ac.transaction_count()\n",
        "ac.Withdraw(50)\n",
        "ac.transaction_count()\n",
        "ac.deposit(500)"
      ]
    }
  ]
}